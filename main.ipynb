{
 "cells": [
  {
   "cell_type": "code",
   "execution_count": 1,
   "metadata": {},
   "outputs": [],
   "source": [
    "import json\n",
    "import numpy as np\n",
    "import matplotlib.pyplot as plt\n",
    "from torch.utils.data import DataLoader\n",
    "import torch\n",
    "from torch.utils.data import Dataset\n",
    "import numpy as np\n",
    "from sklearn.model_selection import KFold"
   ]
  },
  {
   "cell_type": "markdown",
   "metadata": {},
   "source": [
    "## Load the data"
   ]
  },
  {
   "cell_type": "code",
   "execution_count": 2,
   "metadata": {},
   "outputs": [],
   "source": [
    "data = [\n",
    "    json.loads(text)\n",
    "    for text in open('data/train.json')\n",
    "    \n",
    "]\n",
    "reactClasses = ['reactivity', 'deg_pH10', 'deg_Mg_pH10', 'deg_50C', 'deg_Mg_50C']\n",
    "placeHolder = '*'\n",
    "acceptableBases = ['A', 'G', 'U', 'C', placeHolder]"
   ]
  },
  {
   "cell_type": "markdown",
   "metadata": {},
   "source": [
    "## Define Hyper Params"
   ]
  },
  {
   "cell_type": "code",
   "execution_count": 3,
   "metadata": {},
   "outputs": [],
   "source": [
    "frameLength = 3\n",
    "batchSize = 100\n",
    "folds = 5\n",
    "epochs = 8\n",
    "learningRate = 0.0001"
   ]
  },
  {
   "cell_type": "markdown",
   "metadata": {},
   "source": [
    "## Define Helper Functions"
   ]
  },
  {
   "cell_type": "code",
   "execution_count": 4,
   "metadata": {},
   "outputs": [],
   "source": [
    "def getDataSet(indices, className, useFullSequence):\n",
    "    records = [ data[i] for i in indices]\n",
    "    featureSets = []\n",
    "    labels = []\n",
    "    for record in records:\n",
    "        featureSets += extractFeatureSets(record, useFullSequence)\n",
    "        labels += [[reactivity] for reactivity in record[className]]\n",
    "    assert len(featureSets) == len(labels), f'length of featureSets: {len(featureSets)}, length of labels: {len(labels)}'\n",
    "#     print(f'sample feature set: {featureSets[-10]}, sample label: {labels[-10]}')\n",
    "    return RNADataSet(featureSets, labels)\n",
    "\n",
    "\n",
    "def extractFeatureSets(record, useFullSequence):\n",
    "    if useFullSequence:\n",
    "        length = record['seq_length']\n",
    "    else:\n",
    "        length = record['seq_scored']\n",
    "        \n",
    "    bases = record['sequence']\n",
    "    structure = record['structure']\n",
    "    encodedBaseReadingFrames = encodeBaseReadingFrames(getBaseReadingFrames(bases[:length]))\n",
    "    nestDepths = getNestDepths(structure)[:length]\n",
    "    distances = getDistances(structure)[:length]\n",
    "    clumping = getClumping(structure)[:length]\n",
    "    \n",
    "    return [\n",
    "        encodedBaseReadingFrames[i] + [i, nestDepths[i], distances[i], clumping[i]]\n",
    "        for i in range(length)\n",
    "    ]"
   ]
  },
  {
   "cell_type": "code",
   "execution_count": 5,
   "metadata": {},
   "outputs": [],
   "source": [
    "def encodeBaseReadingFrames(frames):\n",
    "    encodings = []\n",
    "    for frame in frames:\n",
    "        encoding = []\n",
    "        for actualBase in frame:\n",
    "            for possibleBase in acceptableBases:\n",
    "                if actualBase == possibleBase:\n",
    "                    encoding.append(1)\n",
    "                else:\n",
    "                    encoding.append(0)\n",
    "        encodings.append(encoding)\n",
    "    return encodings\n",
    "\n",
    "def getBaseReadingFrames(sequence, n=frameLength):\n",
    "    assert n < len(sequence), 'cannot have framelength greater than sequence length'\n",
    "    frames = []\n",
    "    for i in range(len(sequence)):\n",
    "        assert sequence[i] in acceptableBases, f'{sequence[i]} is not an acceptable base'\n",
    "        if i < n - 1:\n",
    "            numPadding = n - 1 - i\n",
    "            frame = ''.join([placeHolder for i in range(numPadding)]) + sequence[0:i+1]\n",
    "        else:\n",
    "            frame = sequence[i - n + 1:i + 1]\n",
    "        frames.append(frame)\n",
    "    assert len(frames) == len(sequence), f'length of frames is {len(frames)}, length of sequence is {len(sequence)}'\n",
    "    return frames\n"
   ]
  },
  {
   "cell_type": "code",
   "execution_count": 6,
   "metadata": {},
   "outputs": [],
   "source": [
    "def getNestDepths(structure):\n",
    "    currentDepth = 0\n",
    "    depths = []\n",
    "    for i in range(len(structure)):\n",
    "        assert structure[i] == '(' or structure[i] == ')' or structure[i] == '.', 'Parings must be a \"(\", \")\", or \".\"'\n",
    "        if structure[i] == '(':\n",
    "            currentDepth += 1\n",
    "        elif i > 0 and structure[i-1] == ')':\n",
    "            currentDepth -= 1\n",
    "        depths.append(currentDepth)\n",
    "    return depths\n",
    "    "
   ]
  },
  {
   "cell_type": "code",
   "execution_count": 7,
   "metadata": {},
   "outputs": [],
   "source": [
    "def getDistances(structure):\n",
    "    distances = [0 for i in range(len(structure))]\n",
    "    completed = [False for i in range(len(structure))]\n",
    "    for i in range(len(structure)):\n",
    "        if not completed[i]:\n",
    "            if structure[i] == '.':\n",
    "                completed[i] = True\n",
    "            elif structure[i] == '(':\n",
    "                j = i + 1\n",
    "                numParen = 0\n",
    "                while not (structure[j] == ')' and numParen == 0):\n",
    "                    if structure[j] == '(':\n",
    "                        numParen += 1\n",
    "                    elif structure[j] == ')':\n",
    "                        numParen -= 1\n",
    "                    j += 1\n",
    "                    assert j < len(structure), 'ill-formed sequence: j is beyond the max index'\n",
    "                distance = j - i\n",
    "                distances[i] = distance\n",
    "                distances[j] = distance\n",
    "                completed[i] = True\n",
    "                completed[j] = True\n",
    "    return distances"
   ]
  },
  {
   "cell_type": "code",
   "execution_count": 8,
   "metadata": {},
   "outputs": [],
   "source": [
    "def getClumping(structure):\n",
    "    clumping = [0 for i in range(len(structure))]\n",
    "    i = 0\n",
    "    while i < len(structure):\n",
    "        if structure[i] != '.':\n",
    "            j = i + 1\n",
    "            while j < len(structure) and structure[j] != '.':\n",
    "                j += 1\n",
    "            clumpSize = j - i\n",
    "            while i < j:\n",
    "                clumping[i] = clumpSize\n",
    "                i += 1\n",
    "        else:\n",
    "            i += 1\n",
    "    return clumping"
   ]
  },
  {
   "cell_type": "code",
   "execution_count": 9,
   "metadata": {},
   "outputs": [],
   "source": [
    "def train(model, optimizer, criteria, trainLoader, valLoader):\n",
    "    trainLoss = []\n",
    "    valLoss = []\n",
    "    for epoch in range(epochs):\n",
    "        \n",
    "        # ****** Training *******\n",
    "        model.train()\n",
    "        losses = []\n",
    "        for features, labels in trainLoader:\n",
    "            optimizer.zero_grad()\n",
    "            output = model(features)\n",
    "            loss = criteria(output, labels)\n",
    "            loss.backward()\n",
    "            optimizer.step()\n",
    "            losses.append(loss.item())\n",
    "        trainLoss.append(np.mean(losses))\n",
    "        \n",
    "        # ****** Validation *******\n",
    "        model.eval()\n",
    "        losses = []\n",
    "        with torch.no_grad():\n",
    "            for features, labels in valLoader:\n",
    "                optimizer.zero_grad()\n",
    "                output = model(features)\n",
    "                loss = criteria(output, labels)\n",
    "                losses.append(loss.item())\n",
    "            valLoss.append(np.mean(losses))\n",
    "    return trainLoss, valLoss"
   ]
  },
  {
   "cell_type": "code",
   "execution_count": 10,
   "metadata": {},
   "outputs": [],
   "source": [
    "class RNADataSet(Dataset):\n",
    "    def __init__(self, features, labels):\n",
    "        self.features = torch.from_numpy(np.array(features)).float()\n",
    "        self.labels = torch.from_numpy(np.array(labels)).float()\n",
    "    \n",
    "    def __len__(self):\n",
    "        return len(self.features)\n",
    "    \n",
    "    \n",
    "    def __getitem__(self, index):\n",
    "        return self.features[index], self.labels[index]"
   ]
  },
  {
   "cell_type": "markdown",
   "metadata": {},
   "source": [
    "## Describe the Distribution of the data"
   ]
  },
  {
   "cell_type": "code",
   "execution_count": 26,
   "metadata": {},
   "outputs": [
    {
     "name": "stderr",
     "output_type": "stream",
     "text": [
      "No handles with labels found to put in legend.\n"
     ]
    },
    {
     "data": {
      "image/png": "[encoded data removed]",
      "text/plain": [
       "<Figure size 432x288 with 1 Axes>"
      ]
     },
     "metadata": {
      "needs_background": "light"
     },
     "output_type": "display_data"
    },
    {
     "name": "stdout",
     "output_type": "stream",
     "text": [
      "163200\n",
      "reactivity mean: 0.3749, std: 0.3749\n",
      "deg_pH10 mean: 0.4469, std: 0.4469\n",
      "deg_Mg_pH10 mean: 0.4463, std: 0.4463\n",
      "deg_50C mean: 0.4259, std: 0.4259\n",
      "deg_Mg_50C mean: 0.407, std: 0.407\n"
     ]
    },
    {
     "data": {
      "image/png": "[encoded data removed]",
      "text/plain": [
       "<Figure size 432x288 with 1 Axes>"
      ]
     },
     "metadata": {
      "needs_background": "light"
     },
     "output_type": "display_data"
    }
   ],
   "source": [
    "def getAverageReactivies(data, className):\n",
    "    return np.mean(\n",
    "        [record[className] for record in data ],\n",
    "        axis=0\n",
    "    )\n",
    "\n",
    "def visualizeAverageNBases(reactivityClass, n):\n",
    "    reactivitiesByFrame = {}\n",
    "    for record in data:\n",
    "        seq_scored = record['seq_scored']\n",
    "        frames = getBaseReadingFrames(record['sequence'], n)[:seq_scored]\n",
    "        reactivities = record[reactivityClass]\n",
    "        assert len(reactivities) == len(frames)\n",
    "        for i in range(len(frames)):\n",
    "            if frames[i] not in reactivitiesByFrame.keys():\n",
    "                reactivitiesByFrame[frames[i]] = [reactivities[i]]\n",
    "            else:\n",
    "                reactivitiesByFrame[frames[i]].append(reactivities[i])\n",
    "    labels = [frame for frame in reactivitiesByFrame.keys()]\n",
    "    averages = [ np.mean(reactivitiesByFrame[frame]) for frame in labels ]\n",
    "    plt.bar(labels, averages)\n",
    "#     plt.bar(['' for i in range(len(labels))], averages)\n",
    "    plt.xlabel('Permutations of 3 bases')\n",
    "    plt.ylabel('Mean Reactivity')\n",
    "#     plt.title(f'Average reactivity for \"{reactivityClass}\" grouped by all unique reading frames of length {n}')\n",
    "    plt.show()\n",
    "    \n",
    "averages = {\n",
    "    className: getAverageReactivies(data, className)\n",
    "    for className in reactClasses\n",
    "}   \n",
    "\n",
    "plt.plot(averages['reactivity'])\n",
    "# plt.set_ylabel('reactivity')\n",
    "plt.xlabel('Position on mRNA Strand')\n",
    "plt.ylabel('Average Reactivity')\n",
    "# plt.xlabel('Position on Strand') \n",
    "plt.legend()\n",
    "plt.show()\n",
    "\n",
    "\n",
    "# for className in reactClasses:\n",
    "#     plt.plot(averages[className], label=className)\n",
    "# plt.legend()\n",
    "# plt.title('Average Reactivies of All Bases For Each Class')\n",
    "# plt.show()\n",
    "\n",
    "# for className in reactClasses:\n",
    "#     plt.plot(averages[className][10:-10], label=className)\n",
    "# plt.legend()\n",
    "# plt.title('Average Reactivies of all Bases Except First and Last 10 For Each Class')\n",
    "# plt.show()\n",
    "\n",
    "allReacts = {}\n",
    "for className in reactClasses:\n",
    "    reactivities = []\n",
    "    for record in data:\n",
    "        reactivities += record[className]\n",
    "    allReacts[className] = reactivities\n",
    "\n",
    "print(len(allReacts['reactivity']))\n",
    "\n",
    "stats = {\n",
    "    className: { 'mean': np.mean(allReacts[className]), 'std': np.mean(allReacts[className])}\n",
    "    for className in reactClasses\n",
    "}\n",
    "for className in reactClasses:\n",
    "    print(f'{className} mean: {round(stats[className][\"mean\"], 4)}, std: {round(stats[className][\"std\"], 4)}')\n",
    "\n",
    "# readingFrameLength = 4\n",
    "# for className in reactClasses:\n",
    "#     visualizeAverageNBases(className, readingFrameLength)\n",
    "visualizeAverageNBases('reactivity', frameLength)"
   ]
  },
  {
   "cell_type": "markdown",
   "metadata": {},
   "source": [
    "## Deploy Model"
   ]
  },
  {
   "cell_type": "code",
   "execution_count": 27,
   "metadata": {},
   "outputs": [],
   "source": [
    "def deployModel(className):\n",
    "    print(f'\\n---------\\nFor class {className}:')\n",
    "    splitter = KFold(folds)\n",
    "    allTrainLosses = []\n",
    "    allValLosses = []\n",
    "    foldCounter = 1\n",
    "    useFullSequence = False\n",
    "    for trainIndices, valIndices in splitter.split(data):\n",
    "        trainData = getDataSet(trainIndices, className, useFullSequence)\n",
    "        valData = getDataSet(valIndices, className, useFullSequence)\n",
    "        trainLoader = DataLoader(trainData, batch_size=batchSize, shuffle=True)\n",
    "        valLoader = DataLoader(valData, batch_size=batchSize, shuffle=True)\n",
    "        numFeatures = len(trainData[0][0])\n",
    "        model = torch.nn.Linear(numFeatures, 1)\n",
    "        criteria = torch.nn.MSELoss()\n",
    "        optimizer = torch.optim.Adam(model.parameters(), lr=learningRate)\n",
    "        trainLosses, valLosses = train(model, optimizer, criteria, trainLoader, valLoader)\n",
    "        allTrainLosses.append(trainLosses)\n",
    "        allValLosses.append(valLosses)\n",
    "        print(f'  Fold {foldCounter} training: {round(trainLosses[-1], 4)}, validation: {round(valLosses[-1], 4)}')\n",
    "        if foldCounter == 1:\n",
    "            plt.title('Fold 1 MSE')\n",
    "            plt.plot(trainLosses, label='Training')\n",
    "            plt.plot(valLosses, label='Validation')\n",
    "            plt.legend()\n",
    "            plt.show()\n",
    "            for param in model.parameters():\n",
    "                print(param)\n",
    "        foldCounter += 1\n",
    "        \n",
    "    averageTrainLosses = []\n",
    "    averageValLosses = []\n",
    "    for i in range(epochs):\n",
    "        averageTrainLosses.append(np.mean([loss[i] for loss in allTrainLosses]))\n",
    "        averageValLosses.append(np.mean([loss[i] for loss in allValLosses]))\n",
    "    plt.plot(averageTrainLosses, label='Training')\n",
    "    plt.plot(averageValLosses, label='Validation')\n",
    "    plt.title(f'  Average MSE from {folds}-fold cross validation')\n",
    "    plt.legend()\n",
    "    plt.xlabel('Epoch')\n",
    "    plt.ylabel('Predicited Reactivity')\n",
    "    plt.show()\n",
    "    print('  ***')\n",
    "    print(f'  Final average training loss: {round(averageTrainLosses[-1], 4)}')\n",
    "    print(f'  Final average validation loss: {round(averageValLosses[-1], 4)}')\n"
   ]
  },
  {
   "cell_type": "code",
   "execution_count": 28,
   "metadata": {},
   "outputs": [
    {
     "name": "stdout",
     "output_type": "stream",
     "text": [
      "\n",
      "---------\n",
      "For class reactivity:\n",
      "  Fold 1 training: 0.4851, validation: 0.4537\n"
     ]
    },
    {
     "data": {
      "image/png": "[encoded data removed]",
      "text/plain": [
       "<Figure size 432x288 with 1 Axes>"
      ]
     },
     "metadata": {
      "needs_background": "light"
     },
     "output_type": "display_data"
    },
    {
     "name": "stdout",
     "output_type": "stream",
     "text": [
      "Parameter containing:\n",
      "tensor([[ 0.0225,  0.0842,  0.0182,  0.0380,  0.5597,  0.0667,  0.1102,  0.0493,\n",
      "          0.0202, -0.2835,  0.2808,  0.1940,  0.1854,  0.0175, -0.1623, -0.0018,\n",
      "          0.0027, -0.0034, -0.0094]], requires_grad=True)\n",
      "Parameter containing:\n",
      "tensor([0.2136], requires_grad=True)\n",
      "  Fold 2 training: 0.478, validation: 0.5019\n",
      "  Fold 3 training: 0.4992, validation: 0.4039\n",
      "  Fold 4 training: 0.4892, validation: 0.4443\n",
      "  Fold 5 training: 0.4593, validation: 0.6016\n"
     ]
    },
    {
     "data": {
      "image/png": "[encoded data removed]",
      "text/plain": [
       "<Figure size 432x288 with 1 Axes>"
      ]
     },
     "metadata": {
      "needs_background": "light"
     },
     "output_type": "display_data"
    },
    {
     "name": "stdout",
     "output_type": "stream",
     "text": [
      "  ***\n",
      "  Final average training loss: 0.4822\n",
      "  Final average validation loss: 0.4811\n"
     ]
    }
   ],
   "source": [
    "deployModel('reactivity')"
   ]
  },
  {
   "cell_type": "code",
   "execution_count": null,
   "metadata": {},
   "outputs": [],
   "source": []
  }
 ],
 "metadata": {
  "kernelspec": {
   "display_name": "Python 3",
   "language": "python",
   "name": "python3"
  },
  "language_info": {
   "codemirror_mode": {
    "name": "ipython",
    "version": 3
   },
   "file_extension": ".py",
   "mimetype": "text/x-python",
   "name": "python",
   "nbconvert_exporter": "python",
   "pygments_lexer": "ipython3",
   "version": "3.8.5"
  }
 },
 "nbformat": 4,
 "nbformat_minor": 4
}
