{
 "cells": [
  {
   "cell_type": "code",
   "execution_count": 1,
   "metadata": {},
   "outputs": [],
   "source": [
    "import json\n",
    "import numpy as np\n",
    "import matplotlib.pyplot as plt\n",
    "from torch.utils.data import DataLoader\n",
    "import torch\n",
    "from torch.utils.data import Dataset\n",
    "import numpy as np\n",
    "from sklearn.model_selection import KFold"
   ]
  },
  {
   "cell_type": "code",
   "execution_count": 2,
   "metadata": {},
   "outputs": [],
   "source": [
    "def getAverageReactivies(data, className):\n",
    "    return np.mean(\n",
    "        [record[className] for record in data ],\n",
    "        axis=0\n",
    "    )"
   ]
  },
  {
   "cell_type": "code",
   "execution_count": 3,
   "metadata": {},
   "outputs": [],
   "source": [
    "data = [\n",
    "    json.loads(text)\n",
    "    for text in open('data/train.json')\n",
    "    \n",
    "]\n",
    "reactClasses = ['reactivity', 'deg_pH10', 'deg_Mg_pH10', 'deg_50C', 'deg_Mg_50C']\n",
    "averages = {\n",
    "    className: getAverageReactivies(data, className)\n",
    "    for className in reactClasses\n",
    "}\n",
    "placeHolder = '*'\n",
    "acceptableBases = ['A', 'G', 'U', 'C', placeHolder]\n",
    "frameLength = 6\n",
    "batchSize = 100\n",
    "folds = 5\n",
    "epochs = 8\n",
    "learningRate = 0.0001"
   ]
  },
  {
   "cell_type": "markdown",
   "metadata": {},
   "source": [
    "### Observation: the beginning and the end of the strands are a little more reactive than the middle, but other than that, the reactivies aren't really a function of their location in the sequence. This is sensible though, because, this sequence may just a subsequence of a larger sequence."
   ]
  },
  {
   "cell_type": "code",
   "execution_count": 4,
   "metadata": {
    "scrolled": true
   },
   "outputs": [
    {
     "data": {
      "text/plain": [
       "Text(0.5, 1.0, 'Average Reactivies For Each Class')"
      ]
     },
     "execution_count": 4,
     "metadata": {},
     "output_type": "execute_result"
    },
    {
     "data": {
      "image/png": "[encoded data removed]",
      "text/plain": [
       "<Figure size 432x288 with 1 Axes>"
      ]
     },
     "metadata": {
      "needs_background": "light"
     },
     "output_type": "display_data"
    }
   ],
   "source": [
    "for className in reactClasses:\n",
    "    plt.plot(averages[className], label=className)\n",
    "plt.legend()\n",
    "plt.title('Average Reactivies For Each Class')"
   ]
  },
  {
   "cell_type": "code",
   "execution_count": 5,
   "metadata": {},
   "outputs": [],
   "source": [
    "def visualizeAverageNBases(reactivityClass):\n",
    "    reactivitiesByFrame = {}\n",
    "    for record in data:\n",
    "        numBases = record['seq_scored']\n",
    "        sequence = record['sequence']\n",
    "        frames = getBaseReadingFrames(sequence[0:numBases])\n",
    "        reactivities = record[reactivityClass]\n",
    "        assert len(reactivities) == numBases\n",
    "        assert len(frames) == numBases\n",
    "        for i in range(numBases):\n",
    "            if frames[i] not in reactivitiesByFrame.keys():\n",
    "                reactivitiesByFrame[frames[i]] = [reactivities[i]]\n",
    "            else:\n",
    "                reactivitiesByFrame[frames[i]].append(reactivities[i])\n",
    "    labels = [frame for frame in reactivitiesByFrame.keys()]\n",
    "    averages = [ np.mean(reactivitiesByFrame[frame]) for frame in labels ]\n",
    "    plt.bar(labels, averages)\n",
    "    plt.title(f'Average reactivity for \"{reactivityClass}\" grouped by all unique reading frames of length {n}')\n",
    "    plt.show()"
   ]
  },
  {
   "cell_type": "code",
   "execution_count": 6,
   "metadata": {},
   "outputs": [],
   "source": [
    "def getDataSet(indices, className, useFullSequence):\n",
    "    records = [ data[i] for i in indices]\n",
    "    featureSets = []\n",
    "    labels = []\n",
    "    for record in records:\n",
    "        featureSets += extractFeatureSets(record, useFullSequence)\n",
    "        labels += [[reactivity] for reactivity in record[className]]\n",
    "    assert len(featureSets) == len(labels), f'length of featureSets: {len(featureSets)}, length of labels: {len(labels)}'\n",
    "    print(f'sample feature set: {featureSets[0]}, sample label: {labels[0]}')\n",
    "    return RNADataSet(featureSets, labels)\n",
    "\n",
    "\n",
    "def extractFeatureSets(record, useFullSequence):\n",
    "    if useFullSequence:\n",
    "        length = record['seq_length']\n",
    "    else:\n",
    "        length = record['seq_scored']\n",
    "        \n",
    "    baseSequence = record['sequence'][:length]\n",
    "    encodedBaseReadingFrames = encodeBaseReadingFrames(getBaseReadingFrames(baseSequence))\n",
    "    nesting = [99.9 for i in range(length)]\n",
    "    distance = [88.8 for i in range(length)]\n",
    "    clumping = [77.7 for i in range(length)]\n",
    "    \n",
    "    return [\n",
    "        encodedBaseReadingFrames[i] + [nesting[i], distance[i], clumping[i]]\n",
    "        for i in range(length)\n",
    "    ]\n",
    "\n",
    "\n",
    "def getBaseReadingFrames(sequence):\n",
    "    assert frameLength < len(sequence), 'cannot have framelength greater than sequence length'\n",
    "    frames = []\n",
    "    for i in range(len(sequence)):\n",
    "        assert sequence[i] in acceptableBases, f'{sequence[i]} is not an acceptable base'\n",
    "        if i < frameLength - 1:\n",
    "            numPadding = frameLength - 1 - i\n",
    "            frame = ''.join([placeHolder for i in range(numPadding)]) + sequence[0:i+1]\n",
    "        else:\n",
    "            frame = sequence[i - frameLength + 1:i + 1]\n",
    "        frames.append(frame)\n",
    "    assert len(frames) == len(sequence), f'length of frames is {len(frames)}, length of sequence is {len(sequence)}'\n",
    "    return frames\n",
    "\n",
    "    \n",
    "def encodeBaseReadingFrames(frames):\n",
    "    encodings = []\n",
    "    for frame in frames:\n",
    "        encoding = []\n",
    "        for actualBase in frame:\n",
    "            for possibleBase in acceptableBases:\n",
    "                if actualBase == possibleBase:\n",
    "                    encoding.append(1)\n",
    "                else:\n",
    "                    encoding.append(0)\n",
    "        encodings.append(encoding)\n",
    "    return encodings\n",
    "\n"
   ]
  },
  {
   "cell_type": "code",
   "execution_count": null,
   "metadata": {},
   "outputs": [],
   "source": [
    "def train(model, optimizer, criteria, trainLoader, valLoader):\n",
    "    trainLoss = []\n",
    "    valLoss = []\n",
    "    for epoch in range(epochs):\n",
    "        \n",
    "        # ****** Training *******\n",
    "        model.train()\n",
    "        losses = []\n",
    "        for features, labels in trainLoader:\n",
    "            optimizer.zero_grad()\n",
    "            output = model(features)\n",
    "            loss = criteria(output, labels)\n",
    "            loss.backward()\n",
    "            optimizer.step()\n",
    "            losses.append(loss.item())\n",
    "        trainLoss.append(np.mean(losses))\n",
    "        \n",
    "        # ****** Validation *******\n",
    "        model.eval()\n",
    "        losses = []\n",
    "        with torch.no_grad():\n",
    "            for features, labels in valLoader:\n",
    "                optimizer.zero_grad()\n",
    "                output = model(features)\n",
    "                loss = criteria(output, labels)\n",
    "                losses.append(loss.item())\n",
    "            valLoss.append(np.mean(losses))\n",
    "    return trainLoss, valLoss"
   ]
  },
  {
   "cell_type": "code",
   "execution_count": 7,
   "metadata": {},
   "outputs": [],
   "source": [
    "class RNADataSet(Dataset):\n",
    "    def __init__(self, features, labels):\n",
    "        self.features = torch.from_numpy(np.array(features)).float()\n",
    "        self.labels = torch.from_numpy(np.array(labels)).float()\n",
    "    \n",
    "    def __len__(self):\n",
    "        return len(self.features)\n",
    "    \n",
    "    \n",
    "    def __getitem__(self, index):\n",
    "        return self.features[index], self.labels[index]"
   ]
  },
  {
   "cell_type": "code",
   "execution_count": 8,
   "metadata": {},
   "outputs": [
    {
     "name": "stdout",
     "output_type": "stream",
     "text": [
      "entering cross validation training\n",
      "sample feature set: [0, 0, 0, 0, 1, 0, 0, 0, 0, 1, 0, 0, 0, 0, 1, 0, 0, 0, 0, 1, 0, 0, 0, 0, 1, 0, 1, 0, 0, 0, 99.9, 88.8, 77.7], sample label: [0.4577]\n",
      "sample feature set: [0, 0, 0, 0, 1, 0, 0, 0, 0, 1, 0, 0, 0, 0, 1, 0, 0, 0, 0, 1, 0, 0, 0, 0, 1, 0, 1, 0, 0, 0, 99.9, 88.8, 77.7], sample label: [0.3297]\n"
     ]
    },
    {
     "name": "stderr",
     "output_type": "stream",
     "text": [
      "/home/abeeston/.local/share/virtualenvs/dataScience-GZHB9V2k/lib/python3.8/site-packages/torch/autograd/__init__.py:130: UserWarning: CUDA initialization: Found no NVIDIA driver on your system. Please check that you have an NVIDIA GPU and installed a driver from http://www.nvidia.com/Download/index.aspx (Triggered internally at  /pytorch/c10/cuda/CUDAFunctions.cpp:100.)\n",
      "  Variable._execution_engine.run_backward(\n"
     ]
    },
    {
     "ename": "KeyboardInterrupt",
     "evalue": "",
     "output_type": "error",
     "traceback": [
      "\u001b[0;31m---------------------------------------------------------------------------\u001b[0m",
      "\u001b[0;31mKeyboardInterrupt\u001b[0m                         Traceback (most recent call last)",
      "\u001b[0;32m<ipython-input-8-9d6956bea44e>\u001b[0m in \u001b[0;36m<module>\u001b[0;34m\u001b[0m\n\u001b[1;32m     15\u001b[0m     \u001b[0mcriteria\u001b[0m \u001b[0;34m=\u001b[0m \u001b[0mtorch\u001b[0m\u001b[0;34m.\u001b[0m\u001b[0mnn\u001b[0m\u001b[0;34m.\u001b[0m\u001b[0mMSELoss\u001b[0m\u001b[0;34m(\u001b[0m\u001b[0;34m)\u001b[0m\u001b[0;34m\u001b[0m\u001b[0;34m\u001b[0m\u001b[0m\n\u001b[1;32m     16\u001b[0m     \u001b[0moptimizer\u001b[0m \u001b[0;34m=\u001b[0m \u001b[0mtorch\u001b[0m\u001b[0;34m.\u001b[0m\u001b[0moptim\u001b[0m\u001b[0;34m.\u001b[0m\u001b[0mAdam\u001b[0m\u001b[0;34m(\u001b[0m\u001b[0mmodel\u001b[0m\u001b[0;34m.\u001b[0m\u001b[0mparameters\u001b[0m\u001b[0;34m(\u001b[0m\u001b[0;34m)\u001b[0m\u001b[0;34m,\u001b[0m \u001b[0mlr\u001b[0m\u001b[0;34m=\u001b[0m\u001b[0mlearningRate\u001b[0m\u001b[0;34m)\u001b[0m\u001b[0;34m\u001b[0m\u001b[0;34m\u001b[0m\u001b[0m\n\u001b[0;32m---> 17\u001b[0;31m     \u001b[0mtrainLosses\u001b[0m\u001b[0;34m,\u001b[0m \u001b[0mvalLosses\u001b[0m \u001b[0;34m=\u001b[0m \u001b[0mtrain\u001b[0m\u001b[0;34m(\u001b[0m\u001b[0mmodel\u001b[0m\u001b[0;34m,\u001b[0m \u001b[0moptimizer\u001b[0m\u001b[0;34m,\u001b[0m \u001b[0mcriteria\u001b[0m\u001b[0;34m,\u001b[0m \u001b[0mtrainLoader\u001b[0m\u001b[0;34m,\u001b[0m \u001b[0mvalLoader\u001b[0m\u001b[0;34m)\u001b[0m\u001b[0;34m\u001b[0m\u001b[0;34m\u001b[0m\u001b[0m\n\u001b[0m\u001b[1;32m     18\u001b[0m     \u001b[0mallTrainLosses\u001b[0m\u001b[0;34m.\u001b[0m\u001b[0mappend\u001b[0m\u001b[0;34m(\u001b[0m\u001b[0mtrainLosses\u001b[0m\u001b[0;34m)\u001b[0m\u001b[0;34m\u001b[0m\u001b[0;34m\u001b[0m\u001b[0m\n\u001b[1;32m     19\u001b[0m     \u001b[0mallValLosses\u001b[0m\u001b[0;34m.\u001b[0m\u001b[0mappend\u001b[0m\u001b[0;34m(\u001b[0m\u001b[0mvalLosses\u001b[0m\u001b[0;34m)\u001b[0m\u001b[0;34m\u001b[0m\u001b[0;34m\u001b[0m\u001b[0m\n",
      "\u001b[0;32m<ipython-input-6-c50b96562c2a>\u001b[0m in \u001b[0;36mtrain\u001b[0;34m(model, optimizer, criteria, trainLoader, valLoader)\u001b[0m\n\u001b[1;32m     59\u001b[0m             \u001b[0mloss\u001b[0m \u001b[0;34m=\u001b[0m \u001b[0mcriteria\u001b[0m\u001b[0;34m(\u001b[0m\u001b[0moutput\u001b[0m\u001b[0;34m,\u001b[0m \u001b[0mlabels\u001b[0m\u001b[0;34m)\u001b[0m\u001b[0;34m\u001b[0m\u001b[0;34m\u001b[0m\u001b[0m\n\u001b[1;32m     60\u001b[0m             \u001b[0mloss\u001b[0m\u001b[0;34m.\u001b[0m\u001b[0mbackward\u001b[0m\u001b[0;34m(\u001b[0m\u001b[0;34m)\u001b[0m\u001b[0;34m\u001b[0m\u001b[0;34m\u001b[0m\u001b[0m\n\u001b[0;32m---> 61\u001b[0;31m             \u001b[0moptimizer\u001b[0m\u001b[0;34m.\u001b[0m\u001b[0mstep\u001b[0m\u001b[0;34m(\u001b[0m\u001b[0;34m)\u001b[0m\u001b[0;34m\u001b[0m\u001b[0;34m\u001b[0m\u001b[0m\n\u001b[0m\u001b[1;32m     62\u001b[0m             \u001b[0mlosses\u001b[0m\u001b[0;34m.\u001b[0m\u001b[0mappend\u001b[0m\u001b[0;34m(\u001b[0m\u001b[0mloss\u001b[0m\u001b[0;34m.\u001b[0m\u001b[0mitem\u001b[0m\u001b[0;34m(\u001b[0m\u001b[0;34m)\u001b[0m\u001b[0;34m)\u001b[0m\u001b[0;34m\u001b[0m\u001b[0;34m\u001b[0m\u001b[0m\n\u001b[1;32m     63\u001b[0m         \u001b[0mtrainLoss\u001b[0m\u001b[0;34m.\u001b[0m\u001b[0mappend\u001b[0m\u001b[0;34m(\u001b[0m\u001b[0mnp\u001b[0m\u001b[0;34m.\u001b[0m\u001b[0mmean\u001b[0m\u001b[0;34m(\u001b[0m\u001b[0mlosses\u001b[0m\u001b[0;34m)\u001b[0m\u001b[0;34m)\u001b[0m\u001b[0;34m\u001b[0m\u001b[0;34m\u001b[0m\u001b[0m\n",
      "\u001b[0;32m~/.local/share/virtualenvs/dataScience-GZHB9V2k/lib/python3.8/site-packages/torch/autograd/grad_mode.py\u001b[0m in \u001b[0;36mdecorate_context\u001b[0;34m(*args, **kwargs)\u001b[0m\n\u001b[1;32m     24\u001b[0m         \u001b[0;32mdef\u001b[0m \u001b[0mdecorate_context\u001b[0m\u001b[0;34m(\u001b[0m\u001b[0;34m*\u001b[0m\u001b[0margs\u001b[0m\u001b[0;34m,\u001b[0m \u001b[0;34m**\u001b[0m\u001b[0mkwargs\u001b[0m\u001b[0;34m)\u001b[0m\u001b[0;34m:\u001b[0m\u001b[0;34m\u001b[0m\u001b[0;34m\u001b[0m\u001b[0m\n\u001b[1;32m     25\u001b[0m             \u001b[0;32mwith\u001b[0m \u001b[0mself\u001b[0m\u001b[0;34m.\u001b[0m\u001b[0m__class__\u001b[0m\u001b[0;34m(\u001b[0m\u001b[0;34m)\u001b[0m\u001b[0;34m:\u001b[0m\u001b[0;34m\u001b[0m\u001b[0;34m\u001b[0m\u001b[0m\n\u001b[0;32m---> 26\u001b[0;31m                 \u001b[0;32mreturn\u001b[0m \u001b[0mfunc\u001b[0m\u001b[0;34m(\u001b[0m\u001b[0;34m*\u001b[0m\u001b[0margs\u001b[0m\u001b[0;34m,\u001b[0m \u001b[0;34m**\u001b[0m\u001b[0mkwargs\u001b[0m\u001b[0;34m)\u001b[0m\u001b[0;34m\u001b[0m\u001b[0;34m\u001b[0m\u001b[0m\n\u001b[0m\u001b[1;32m     27\u001b[0m         \u001b[0;32mreturn\u001b[0m \u001b[0mcast\u001b[0m\u001b[0;34m(\u001b[0m\u001b[0mF\u001b[0m\u001b[0;34m,\u001b[0m \u001b[0mdecorate_context\u001b[0m\u001b[0;34m)\u001b[0m\u001b[0;34m\u001b[0m\u001b[0;34m\u001b[0m\u001b[0m\n\u001b[1;32m     28\u001b[0m \u001b[0;34m\u001b[0m\u001b[0m\n",
      "\u001b[0;32m~/.local/share/virtualenvs/dataScience-GZHB9V2k/lib/python3.8/site-packages/torch/optim/adam.py\u001b[0m in \u001b[0;36mstep\u001b[0;34m(self, closure)\u001b[0m\n\u001b[1;32m     78\u001b[0m                 \u001b[0;32mif\u001b[0m \u001b[0mp\u001b[0m\u001b[0;34m.\u001b[0m\u001b[0mgrad\u001b[0m \u001b[0;32mis\u001b[0m \u001b[0;32mnot\u001b[0m \u001b[0;32mNone\u001b[0m\u001b[0;34m:\u001b[0m\u001b[0;34m\u001b[0m\u001b[0;34m\u001b[0m\u001b[0m\n\u001b[1;32m     79\u001b[0m                     \u001b[0mparams_with_grad\u001b[0m\u001b[0;34m.\u001b[0m\u001b[0mappend\u001b[0m\u001b[0;34m(\u001b[0m\u001b[0mp\u001b[0m\u001b[0;34m)\u001b[0m\u001b[0;34m\u001b[0m\u001b[0;34m\u001b[0m\u001b[0m\n\u001b[0;32m---> 80\u001b[0;31m                     \u001b[0;32mif\u001b[0m \u001b[0mp\u001b[0m\u001b[0;34m.\u001b[0m\u001b[0mgrad\u001b[0m\u001b[0;34m.\u001b[0m\u001b[0mis_sparse\u001b[0m\u001b[0;34m:\u001b[0m\u001b[0;34m\u001b[0m\u001b[0;34m\u001b[0m\u001b[0m\n\u001b[0m\u001b[1;32m     81\u001b[0m                         \u001b[0;32mraise\u001b[0m \u001b[0mRuntimeError\u001b[0m\u001b[0;34m(\u001b[0m\u001b[0;34m'Adam does not support sparse gradients, please consider SparseAdam instead'\u001b[0m\u001b[0;34m)\u001b[0m\u001b[0;34m\u001b[0m\u001b[0;34m\u001b[0m\u001b[0m\n\u001b[1;32m     82\u001b[0m                     \u001b[0mgrads\u001b[0m\u001b[0;34m.\u001b[0m\u001b[0mappend\u001b[0m\u001b[0;34m(\u001b[0m\u001b[0mp\u001b[0m\u001b[0;34m.\u001b[0m\u001b[0mgrad\u001b[0m\u001b[0;34m)\u001b[0m\u001b[0;34m\u001b[0m\u001b[0;34m\u001b[0m\u001b[0m\n",
      "\u001b[0;32m~/.local/share/virtualenvs/dataScience-GZHB9V2k/lib/python3.8/site-packages/torch/tensor.py\u001b[0m in \u001b[0;36mgrad\u001b[0;34m(self)\u001b[0m\n\u001b[1;32m    951\u001b[0m                           \u001b[0;34m\"non-leaf Tensor by mistake, make sure you access the leaf Tensor instead. See \"\u001b[0m\u001b[0;34m\u001b[0m\u001b[0;34m\u001b[0m\u001b[0m\n\u001b[1;32m    952\u001b[0m                           \"github.com/pytorch/pytorch/pull/30531 for more informations.\", stacklevel=2)\n\u001b[0;32m--> 953\u001b[0;31m         \u001b[0;32mreturn\u001b[0m \u001b[0mself\u001b[0m\u001b[0;34m.\u001b[0m\u001b[0m_grad\u001b[0m\u001b[0;34m\u001b[0m\u001b[0;34m\u001b[0m\u001b[0m\n\u001b[0m\u001b[1;32m    954\u001b[0m \u001b[0;34m\u001b[0m\u001b[0m\n\u001b[1;32m    955\u001b[0m     \u001b[0;34m@\u001b[0m\u001b[0mgrad\u001b[0m\u001b[0;34m.\u001b[0m\u001b[0msetter\u001b[0m\u001b[0;34m\u001b[0m\u001b[0;34m\u001b[0m\u001b[0m\n",
      "\u001b[0;31mKeyboardInterrupt\u001b[0m: "
     ]
    }
   ],
   "source": [
    "className = 'reactivity'\n",
    "splitter = KFold(folds)\n",
    "allTrainLosses = []\n",
    "allValLosses = []\n",
    "foldCounter = 1\n",
    "print('entering cross validation training')\n",
    "useFullSequence = False\n",
    "for trainIndices, valIndices in splitter.split(data):\n",
    "    trainData = getDataSet(trainIndices, className, useFullSequence)\n",
    "    valData = getDataSet(valIndices, className, useFullSequence)\n",
    "    trainLoader = DataLoader(trainData, batch_size=batchSize, shuffle=True)\n",
    "    valLoader = DataLoader(valData, batch_size=batchSize, shuffle=True)\n",
    "    numFeatures = len(trainData[0][0])\n",
    "    model = torch.nn.Linear(numFeatures, 1)\n",
    "    criteria = torch.nn.MSELoss()\n",
    "    optimizer = torch.optim.Adam(model.parameters(), lr=learningRate)\n",
    "    trainLosses, valLosses = train(model, optimizer, criteria, trainLoader, valLoader)\n",
    "    allTrainLosses.append(trainLosses)\n",
    "    allValLosses.append(valLosses)\n",
    "    print(f'Fold {foldCounter} last-epoch training: {round(trainLosses[-1], 4)}, validation: {round(valLosses[-1], 4)}')\n",
    "    if foldCounter == 1:\n",
    "        plt.title('Fold-1 Losses')\n",
    "        plt.plot(trainLosses, label='Training')\n",
    "        plt.plot(valLosses, label='Validation')\n",
    "        plt.legend()\n",
    "        plt.show()\n",
    "    foldCounter += 1"
   ]
  },
  {
   "cell_type": "code",
   "execution_count": null,
   "metadata": {},
   "outputs": [],
   "source": [
    "# print(allTrainLosses)\n",
    "# print(allValLosses)\n",
    "startingEpoch = 1\n",
    "averageTrainLosses = []\n",
    "averageValLosses = []\n",
    "for i in range(epochs)[startingEpoch:]:\n",
    "    averageTrainLosses.append(np.mean([loss[i] for loss in allTrainLosses]))\n",
    "    averageValLosses.append(np.mean([loss[i] for loss in allValLosses]))\n",
    "plt.plot(averageTrainLosses, label='Training')\n",
    "plt.plot(averageValLosses, label='Validation')\n",
    "plt.title(f'Average losses over {folds}-fold cross validation after second epoch')\n",
    "plt.legend()\n",
    "plt.show()\n",
    "print(f'Final average training loss: {round(averageTrainLosses[-1], 4)}')\n",
    "print(f'Final average validation loss: {round(averageValLosses[-1], 4)}')"
   ]
  },
  {
   "cell_type": "code",
   "execution_count": null,
   "metadata": {},
   "outputs": [],
   "source": []
  }
 ],
 "metadata": {
  "kernelspec": {
   "display_name": "Python 3",
   "language": "python",
   "name": "python3"
  },
  "language_info": {
   "codemirror_mode": {
    "name": "ipython",
    "version": 3
   },
   "file_extension": ".py",
   "mimetype": "text/x-python",
   "name": "python",
   "nbconvert_exporter": "python",
   "pygments_lexer": "ipython3",
   "version": "3.8.5"
  }
 },
 "nbformat": 4,
 "nbformat_minor": 4
}
